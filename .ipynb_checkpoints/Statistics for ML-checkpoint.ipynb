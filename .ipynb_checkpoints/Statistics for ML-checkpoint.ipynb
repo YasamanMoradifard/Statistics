{
 "cells": [
  {
   "cell_type": "markdown",
   "metadata": {
    "id": "ismfqKtB7G3a"
   },
   "source": [
    "# Chapter 1\n",
    "\n",
    "\n",
    "*   Introduction\n",
    "*   Fundamentals\n"
   ]
  },
  {
   "cell_type": "code",
   "execution_count": null,
   "metadata": {
    "id": "Lfz5Hg_22wIG"
   },
   "outputs": [],
   "source": []
  }
 ],
 "metadata": {
  "colab": {
   "authorship_tag": "ABX9TyMLVkgE8f/9hovruxhW+iD6",
   "provenance": []
  },
  "kernelspec": {
   "display_name": "Python 3 (ipykernel)",
   "language": "python",
   "name": "python3"
  },
  "language_info": {
   "codemirror_mode": {
    "name": "ipython",
    "version": 3
   },
   "file_extension": ".py",
   "mimetype": "text/x-python",
   "name": "python",
   "nbconvert_exporter": "python",
   "pygments_lexer": "ipython3",
   "version": "3.7.6"
  }
 },
 "nbformat": 4,
 "nbformat_minor": 1
}
